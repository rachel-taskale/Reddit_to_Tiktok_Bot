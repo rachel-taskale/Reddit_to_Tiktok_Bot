{
 "cells": [
  {
   "cell_type": "code",
   "execution_count": 133,
   "metadata": {},
   "outputs": [
    {
     "name": "stdout",
     "output_type": "stream",
     "text": [
      "Requirement already satisfied: praw in c:\\users\\rache\\anaconda3\\lib\\site-packages (7.6.0)\n",
      "Requirement already satisfied: websocket-client>=0.54.0 in c:\\users\\rache\\anaconda3\\lib\\site-packages (from praw) (1.3.3)\n",
      "Note: you may need to restart the kernel to use updated packages.Requirement already satisfied: prawcore<3,>=2.1 in c:\\users\\rache\\anaconda3\\lib\\site-packages (from praw) (2.3.0)\n",
      "\n",
      "Requirement already satisfied: update-checker>=0.18 in c:\\users\\rache\\anaconda3\\lib\\site-packages (from praw) (0.18.0)\n",
      "Requirement already satisfied: requests<3.0,>=2.6.0 in c:\\users\\rache\\anaconda3\\lib\\site-packages (from prawcore<3,>=2.1->praw) (2.24.0)\n",
      "Requirement already satisfied: idna<3,>=2.5 in c:\\users\\rache\\anaconda3\\lib\\site-packages (from requests<3.0,>=2.6.0->prawcore<3,>=2.1->praw) (2.10)\n",
      "Requirement already satisfied: urllib3!=1.25.0,!=1.25.1,<1.26,>=1.21.1 in c:\\users\\rache\\anaconda3\\lib\\site-packages (from requests<3.0,>=2.6.0->prawcore<3,>=2.1->praw) (1.25.11)\n",
      "Requirement already satisfied: chardet<4,>=3.0.2 in c:\\users\\rache\\anaconda3\\lib\\site-packages (from requests<3.0,>=2.6.0->prawcore<3,>=2.1->praw) (3.0.4)\n",
      "Requirement already satisfied: certifi>=2017.4.17 in c:\\users\\rache\\anaconda3\\lib\\site-packages (from requests<3.0,>=2.6.0->prawcore<3,>=2.1->praw) (2020.6.20)\n",
      "Requirement already satisfied: pyttsx3 in c:\\users\\rache\\anaconda3\\lib\\site-packages (2.90)\n",
      "Requirement already satisfied: pypiwin32; platform_system == \"Windows\" in c:\\users\\rache\\anaconda3\\lib\\site-packages (from pyttsx3) (223)\n",
      "Requirement already satisfied: pywin32; platform_system == \"Windows\" in c:\\users\\rache\\anaconda3\\lib\\site-packages (from pyttsx3) (227)\n",
      "Requirement already satisfied: comtypes; platform_system == \"Windows\" in c:\\users\\rache\\anaconda3\\lib\\site-packages (from pyttsx3) (1.1.7)\n",
      "Note: you may need to restart the kernel to use updated packages.\n",
      "Collecting gTTS\n",
      "  Downloading gTTS-2.2.4-py3-none-any.whl (26 kB)\n",
      "Requirement already satisfied: click in c:\\users\\rache\\anaconda3\\lib\\site-packages (from gTTS) (7.1.2)\n",
      "Requirement already satisfied: requests in c:\\users\\rache\\anaconda3\\lib\\site-packages (from gTTS) (2.24.0)\n",
      "Requirement already satisfied: six in c:\\users\\rache\\anaconda3\\lib\\site-packages (from gTTS) (1.15.0)\n",
      "Requirement already satisfied: urllib3!=1.25.0,!=1.25.1,<1.26,>=1.21.1 in c:\\users\\rache\\anaconda3\\lib\\site-packages (from requests->gTTS) (1.25.11)\n",
      "Requirement already satisfied: chardet<4,>=3.0.2 in c:\\users\\rache\\anaconda3\\lib\\site-packages (from requests->gTTS) (3.0.4)\n",
      "Requirement already satisfied: idna<3,>=2.5 in c:\\users\\rache\\anaconda3\\lib\\site-packages (from requests->gTTS) (2.10)\n",
      "Requirement already satisfied: certifi>=2017.4.17 in c:\\users\\rache\\anaconda3\\lib\\site-packages (from requests->gTTS) (2020.6.20)\n",
      "Installing collected packages: gTTS\n",
      "Successfully installed gTTS-2.2.4\n",
      "Note: you may need to restart the kernel to use updated packages.\n"
     ]
    }
   ],
   "source": [
    "%pip install praw\n",
    "%pip install pyttsx3\n",
    "%pip install gTTS\n"
   ]
  },
  {
   "cell_type": "code",
   "execution_count": 125,
   "metadata": {},
   "outputs": [],
   "source": [
    "import pandas as pd\n",
    "import praw\n",
    "from gtts import gTTS"
   ]
  },
  {
   "cell_type": "code",
   "execution_count": 126,
   "metadata": {},
   "outputs": [],
   "source": [
    "user_agent = \"Scraper 1.0 by /u/Candid-Cantaloupe-24\"\n",
    "reddit = praw.Reddit(\n",
    "    client_id = \"\",\n",
    "    client_secret=\"\",\n",
    "    user_agent = user_agent,\n",
    "    check_for_async=False\n",
    ")\n",
    "reddit_submissions = []"
   ]
  },
  {
   "cell_type": "code",
   "execution_count": 127,
   "metadata": {},
   "outputs": [],
   "source": [
    "\n",
    "def convert_to_audio(title, description, sub_id):\n",
    "    url = './audio/' + sub_id + '.mp3'\n",
    "    tts = gTTS((title + ' ' + description), lang='en', slow=False )\n",
    "    tts.save(url)\n",
    "    return url"
   ]
  },
  {
   "cell_type": "code",
   "execution_count": 146,
   "metadata": {},
   "outputs": [],
   "source": [
    "\n",
    "\n",
    "def easy_sub():\n",
    "  for idx, submission in enumerate(reddit.subreddit('AmITheAsshole').hot(limit=10)):\n",
    "    title = submission.title.replace('fuck', 'f-word').replace('dick', 'd').replace('aita', 'am I the asshole')\n",
    "    description = submission.selftext.replace('fuck', 'f-word').replace('dick', 'd')\n",
    "    url = './audio/' + title\n",
    "    audio_url =  './audio/'+submission.id + '.mp3'\n",
    "    tts = gTTS((title + ' ' + description), lang='en', slow=False )\n",
    "    tts.save(audio_url)\n",
    "    reddit_submissions.append([submission.url, url])\n",
    "easy_sub()"
   ]
  },
  {
   "cell_type": "code",
   "execution_count": 149,
   "metadata": {},
   "outputs": [
    {
     "name": "stdout",
     "output_type": "stream",
     "text": [
      "w8gll7\n"
     ]
    }
   ],
   "source": [
    "\n",
    "\n",
    "def manual_submission(url):\n",
    "    title =reddit.submission(url=url).title\n",
    "    description = reddit.submission(url=url).selftext\n",
    "    audio_url =  './audio/'+reddit.submission(url=url).id + '.mp3'\n",
    "    print(reddit.submission(url=url).id)\n",
    "    tts = gTTS((title + ' ' + description), lang='en', slow=False )\n",
    "    tts.save(audio_url)\n",
    "    reddit_submissions.append([title, audio_url])\n",
    "    \n",
    "manual_submission('https://www.reddit.com/r/relationship_advice/comments/w8gll7/my_husband_has_a_female_pen_pal/?utm_source=share&utm_medium=ios_app&utm_name=iossmf')\n",
    "    "
   ]
  },
  {
   "cell_type": "code",
   "execution_count": 130,
   "metadata": {},
   "outputs": [],
   "source": [
    "df = pd.DataFrame(reddit_submissions)\n",
    "df.to_csv('reddit_submissions.csv', header=False, encoding='utf-8', index=False)"
   ]
  }
 ],
 "metadata": {
  "kernelspec": {
   "display_name": "Python 3.8.5 ('base')",
   "language": "python",
   "name": "python3"
  },
  "language_info": {
   "codemirror_mode": {
    "name": "ipython",
    "version": 3
   },
   "file_extension": ".py",
   "mimetype": "text/x-python",
   "name": "python",
   "nbconvert_exporter": "python",
   "pygments_lexer": "ipython3",
   "version": "3.8.5"
  },
  "vscode": {
   "interpreter": {
    "hash": "04c5526d84e8546d4393d57be5fc0b48304a9ffb3ca72230f50120d4fb76a5c2"
   }
  }
 },
 "nbformat": 4,
 "nbformat_minor": 2
}
